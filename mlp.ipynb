{
  "nbformat": 4,
  "nbformat_minor": 0,
  "metadata": {
    "colab": {
      "provenance": [],
      "collapsed_sections": [],
      "authorship_tag": "ABX9TyMDeZBfP1NfhL75TozTLNmI",
      "include_colab_link": true
    },
    "kernelspec": {
      "name": "python3",
      "display_name": "Python 3"
    },
    "language_info": {
      "name": "python"
    }
  },
  "cells": [
    {
      "cell_type": "markdown",
      "metadata": {
        "id": "view-in-github",
        "colab_type": "text"
      },
      "source": [
        "<a href=\"https://colab.research.google.com/github/Andesia/Aflatoxin-Prediction/blob/main/mlp.ipynb\" target=\"_parent\"><img src=\"https://colab.research.google.com/assets/colab-badge.svg\" alt=\"Open In Colab\"/></a>"
      ]
    },
    {
      "cell_type": "code",
      "execution_count": null,
      "metadata": {
        "id": "l03QZv_RgZe1"
      },
      "outputs": [],
      "source": [
        "import pandas as pd\n",
        "import numpy as np"
      ]
    },
    {
      "cell_type": "code",
      "source": [
        "afla = pd.read_csv(\"aflapredict.csv\")\n",
        "#print(afla.head())"
      ],
      "metadata": {
        "id": "SDBdyLnui5V3"
      },
      "execution_count": null,
      "outputs": []
    },
    {
      "cell_type": "code",
      "source": [
        "df=pd.DataFrame(afla)\n",
        "df\n"
      ],
      "metadata": {
        "id": "tLkSQ0hMdfxy",
        "colab": {
          "base_uri": "https://localhost:8080/",
          "height": 424
        },
        "outputId": "e7c61e5a-e7c7-4928-f9e6-effecd247f8e"
      },
      "execution_count": null,
      "outputs": [
        {
          "output_type": "execute_result",
          "data": {
            "text/plain": [
              "     Relative Humidity  Soil temp.  Soil Wetness  Max temp.  Min temp.  \\\n",
              "0                65.81       17.66          0.41      31.81      12.99   \n",
              "1                76.25       19.38          0.30      32.83      13.02   \n",
              "2                75.75       18.67          0.43      32.09      15.44   \n",
              "3                62.81       17.08          0.70      28.50      14.22   \n",
              "4                79.94       16.61          0.70      26.47      13.61   \n",
              "..                 ...         ...           ...        ...        ...   \n",
              "487              77.06       16.15          0.34      33.50      12.12   \n",
              "488              74.00       17.91          0.27      32.12      13.03   \n",
              "489              73.69       18.49          0.33      32.30      13.65   \n",
              "490              76.81       18.38          0.40      32.26      14.51   \n",
              "491              84.69       16.66          0.53      29.21      14.76   \n",
              "\n",
              "     Average temp.  Rainfall  class   \n",
              "0            21.55      0.00       0  \n",
              "1            22.74      5.27       1  \n",
              "2            22.24    131.84       1  \n",
              "3            20.42    205.66       0  \n",
              "4            19.44    110.74       0  \n",
              "..             ...       ...     ...  \n",
              "487          19.90     15.37       0  \n",
              "488          21.21      7.75       0  \n",
              "489          22.36     28.51       0  \n",
              "490          22.46     54.02       0  \n",
              "491          20.81    137.37       1  \n",
              "\n",
              "[492 rows x 8 columns]"
            ],
            "text/html": [
              "\n",
              "  <div id=\"df-a9e710f7-a668-4105-8731-498c06a8550c\">\n",
              "    <div class=\"colab-df-container\">\n",
              "      <div>\n",
              "<style scoped>\n",
              "    .dataframe tbody tr th:only-of-type {\n",
              "        vertical-align: middle;\n",
              "    }\n",
              "\n",
              "    .dataframe tbody tr th {\n",
              "        vertical-align: top;\n",
              "    }\n",
              "\n",
              "    .dataframe thead th {\n",
              "        text-align: right;\n",
              "    }\n",
              "</style>\n",
              "<table border=\"1\" class=\"dataframe\">\n",
              "  <thead>\n",
              "    <tr style=\"text-align: right;\">\n",
              "      <th></th>\n",
              "      <th>Relative Humidity</th>\n",
              "      <th>Soil temp.</th>\n",
              "      <th>Soil Wetness</th>\n",
              "      <th>Max temp.</th>\n",
              "      <th>Min temp.</th>\n",
              "      <th>Average temp.</th>\n",
              "      <th>Rainfall</th>\n",
              "      <th>class</th>\n",
              "    </tr>\n",
              "  </thead>\n",
              "  <tbody>\n",
              "    <tr>\n",
              "      <th>0</th>\n",
              "      <td>65.81</td>\n",
              "      <td>17.66</td>\n",
              "      <td>0.41</td>\n",
              "      <td>31.81</td>\n",
              "      <td>12.99</td>\n",
              "      <td>21.55</td>\n",
              "      <td>0.00</td>\n",
              "      <td>0</td>\n",
              "    </tr>\n",
              "    <tr>\n",
              "      <th>1</th>\n",
              "      <td>76.25</td>\n",
              "      <td>19.38</td>\n",
              "      <td>0.30</td>\n",
              "      <td>32.83</td>\n",
              "      <td>13.02</td>\n",
              "      <td>22.74</td>\n",
              "      <td>5.27</td>\n",
              "      <td>1</td>\n",
              "    </tr>\n",
              "    <tr>\n",
              "      <th>2</th>\n",
              "      <td>75.75</td>\n",
              "      <td>18.67</td>\n",
              "      <td>0.43</td>\n",
              "      <td>32.09</td>\n",
              "      <td>15.44</td>\n",
              "      <td>22.24</td>\n",
              "      <td>131.84</td>\n",
              "      <td>1</td>\n",
              "    </tr>\n",
              "    <tr>\n",
              "      <th>3</th>\n",
              "      <td>62.81</td>\n",
              "      <td>17.08</td>\n",
              "      <td>0.70</td>\n",
              "      <td>28.50</td>\n",
              "      <td>14.22</td>\n",
              "      <td>20.42</td>\n",
              "      <td>205.66</td>\n",
              "      <td>0</td>\n",
              "    </tr>\n",
              "    <tr>\n",
              "      <th>4</th>\n",
              "      <td>79.94</td>\n",
              "      <td>16.61</td>\n",
              "      <td>0.70</td>\n",
              "      <td>26.47</td>\n",
              "      <td>13.61</td>\n",
              "      <td>19.44</td>\n",
              "      <td>110.74</td>\n",
              "      <td>0</td>\n",
              "    </tr>\n",
              "    <tr>\n",
              "      <th>...</th>\n",
              "      <td>...</td>\n",
              "      <td>...</td>\n",
              "      <td>...</td>\n",
              "      <td>...</td>\n",
              "      <td>...</td>\n",
              "      <td>...</td>\n",
              "      <td>...</td>\n",
              "      <td>...</td>\n",
              "    </tr>\n",
              "    <tr>\n",
              "      <th>487</th>\n",
              "      <td>77.06</td>\n",
              "      <td>16.15</td>\n",
              "      <td>0.34</td>\n",
              "      <td>33.50</td>\n",
              "      <td>12.12</td>\n",
              "      <td>19.90</td>\n",
              "      <td>15.37</td>\n",
              "      <td>0</td>\n",
              "    </tr>\n",
              "    <tr>\n",
              "      <th>488</th>\n",
              "      <td>74.00</td>\n",
              "      <td>17.91</td>\n",
              "      <td>0.27</td>\n",
              "      <td>32.12</td>\n",
              "      <td>13.03</td>\n",
              "      <td>21.21</td>\n",
              "      <td>7.75</td>\n",
              "      <td>0</td>\n",
              "    </tr>\n",
              "    <tr>\n",
              "      <th>489</th>\n",
              "      <td>73.69</td>\n",
              "      <td>18.49</td>\n",
              "      <td>0.33</td>\n",
              "      <td>32.30</td>\n",
              "      <td>13.65</td>\n",
              "      <td>22.36</td>\n",
              "      <td>28.51</td>\n",
              "      <td>0</td>\n",
              "    </tr>\n",
              "    <tr>\n",
              "      <th>490</th>\n",
              "      <td>76.81</td>\n",
              "      <td>18.38</td>\n",
              "      <td>0.40</td>\n",
              "      <td>32.26</td>\n",
              "      <td>14.51</td>\n",
              "      <td>22.46</td>\n",
              "      <td>54.02</td>\n",
              "      <td>0</td>\n",
              "    </tr>\n",
              "    <tr>\n",
              "      <th>491</th>\n",
              "      <td>84.69</td>\n",
              "      <td>16.66</td>\n",
              "      <td>0.53</td>\n",
              "      <td>29.21</td>\n",
              "      <td>14.76</td>\n",
              "      <td>20.81</td>\n",
              "      <td>137.37</td>\n",
              "      <td>1</td>\n",
              "    </tr>\n",
              "  </tbody>\n",
              "</table>\n",
              "<p>492 rows × 8 columns</p>\n",
              "</div>\n",
              "      <button class=\"colab-df-convert\" onclick=\"convertToInteractive('df-a9e710f7-a668-4105-8731-498c06a8550c')\"\n",
              "              title=\"Convert this dataframe to an interactive table.\"\n",
              "              style=\"display:none;\">\n",
              "        \n",
              "  <svg xmlns=\"http://www.w3.org/2000/svg\" height=\"24px\"viewBox=\"0 0 24 24\"\n",
              "       width=\"24px\">\n",
              "    <path d=\"M0 0h24v24H0V0z\" fill=\"none\"/>\n",
              "    <path d=\"M18.56 5.44l.94 2.06.94-2.06 2.06-.94-2.06-.94-.94-2.06-.94 2.06-2.06.94zm-11 1L8.5 8.5l.94-2.06 2.06-.94-2.06-.94L8.5 2.5l-.94 2.06-2.06.94zm10 10l.94 2.06.94-2.06 2.06-.94-2.06-.94-.94-2.06-.94 2.06-2.06.94z\"/><path d=\"M17.41 7.96l-1.37-1.37c-.4-.4-.92-.59-1.43-.59-.52 0-1.04.2-1.43.59L10.3 9.45l-7.72 7.72c-.78.78-.78 2.05 0 2.83L4 21.41c.39.39.9.59 1.41.59.51 0 1.02-.2 1.41-.59l7.78-7.78 2.81-2.81c.8-.78.8-2.07 0-2.86zM5.41 20L4 18.59l7.72-7.72 1.47 1.35L5.41 20z\"/>\n",
              "  </svg>\n",
              "      </button>\n",
              "      \n",
              "  <style>\n",
              "    .colab-df-container {\n",
              "      display:flex;\n",
              "      flex-wrap:wrap;\n",
              "      gap: 12px;\n",
              "    }\n",
              "\n",
              "    .colab-df-convert {\n",
              "      background-color: #E8F0FE;\n",
              "      border: none;\n",
              "      border-radius: 50%;\n",
              "      cursor: pointer;\n",
              "      display: none;\n",
              "      fill: #1967D2;\n",
              "      height: 32px;\n",
              "      padding: 0 0 0 0;\n",
              "      width: 32px;\n",
              "    }\n",
              "\n",
              "    .colab-df-convert:hover {\n",
              "      background-color: #E2EBFA;\n",
              "      box-shadow: 0px 1px 2px rgba(60, 64, 67, 0.3), 0px 1px 3px 1px rgba(60, 64, 67, 0.15);\n",
              "      fill: #174EA6;\n",
              "    }\n",
              "\n",
              "    [theme=dark] .colab-df-convert {\n",
              "      background-color: #3B4455;\n",
              "      fill: #D2E3FC;\n",
              "    }\n",
              "\n",
              "    [theme=dark] .colab-df-convert:hover {\n",
              "      background-color: #434B5C;\n",
              "      box-shadow: 0px 1px 3px 1px rgba(0, 0, 0, 0.15);\n",
              "      filter: drop-shadow(0px 1px 2px rgba(0, 0, 0, 0.3));\n",
              "      fill: #FFFFFF;\n",
              "    }\n",
              "  </style>\n",
              "\n",
              "      <script>\n",
              "        const buttonEl =\n",
              "          document.querySelector('#df-a9e710f7-a668-4105-8731-498c06a8550c button.colab-df-convert');\n",
              "        buttonEl.style.display =\n",
              "          google.colab.kernel.accessAllowed ? 'block' : 'none';\n",
              "\n",
              "        async function convertToInteractive(key) {\n",
              "          const element = document.querySelector('#df-a9e710f7-a668-4105-8731-498c06a8550c');\n",
              "          const dataTable =\n",
              "            await google.colab.kernel.invokeFunction('convertToInteractive',\n",
              "                                                     [key], {});\n",
              "          if (!dataTable) return;\n",
              "\n",
              "          const docLinkHtml = 'Like what you see? Visit the ' +\n",
              "            '<a target=\"_blank\" href=https://colab.research.google.com/notebooks/data_table.ipynb>data table notebook</a>'\n",
              "            + ' to learn more about interactive tables.';\n",
              "          element.innerHTML = '';\n",
              "          dataTable['output_type'] = 'display_data';\n",
              "          await google.colab.output.renderOutput(dataTable, element);\n",
              "          const docLink = document.createElement('div');\n",
              "          docLink.innerHTML = docLinkHtml;\n",
              "          element.appendChild(docLink);\n",
              "        }\n",
              "      </script>\n",
              "    </div>\n",
              "  </div>\n",
              "  "
            ]
          },
          "metadata": {},
          "execution_count": 61
        }
      ]
    },
    {
      "cell_type": "code",
      "source": [
        "afla.shape"
      ],
      "metadata": {
        "colab": {
          "base_uri": "https://localhost:8080/"
        },
        "id": "RDL08N_WmPh0",
        "outputId": "ee2a2d83-bc19-453b-fbbf-25666265f69b"
      },
      "execution_count": null,
      "outputs": [
        {
          "output_type": "execute_result",
          "data": {
            "text/plain": [
              "(492, 8)"
            ]
          },
          "metadata": {},
          "execution_count": 62
        }
      ]
    },
    {
      "cell_type": "code",
      "source": [
        "afla.describe(include = 'all')"
      ],
      "metadata": {
        "colab": {
          "base_uri": "https://localhost:8080/",
          "height": 300
        },
        "id": "_o-TQa-_mTjJ",
        "outputId": "f778967f-7c4e-4115-cc9c-a43a63ead06b"
      },
      "execution_count": null,
      "outputs": [
        {
          "output_type": "execute_result",
          "data": {
            "text/plain": [
              "       Relative Humidity  Soil temp.  Soil Wetness   Max temp.   Min temp.  \\\n",
              "count         492.000000  492.000000    492.000000  492.000000  492.000000   \n",
              "mean           76.739736   17.256341      0.454268   30.632724   12.985122   \n",
              "std             7.273804    1.276898      0.107082    1.781498    1.539400   \n",
              "min            50.880000   14.300000      0.250000   25.690000    8.410000   \n",
              "25%            72.690000   16.377500      0.370000   29.350000   11.830000   \n",
              "50%            78.155000   17.120000      0.460000   30.800000   12.980000   \n",
              "75%            82.137500   18.050000      0.520000   31.810000   14.142500   \n",
              "max            89.000000   20.520000      0.860000   35.240000   16.630000   \n",
              "\n",
              "       Average temp.    Rainfall      class   \n",
              "count     492.000000  492.000000  492.000000  \n",
              "mean       20.837053   47.341057    0.276423  \n",
              "std         1.249073   55.188723    0.447684  \n",
              "min        18.140000    0.000000    0.000000  \n",
              "25%        19.880000    5.270000    0.000000  \n",
              "50%        20.815000   26.370000    0.000000  \n",
              "75%        21.692500   73.830000    1.000000  \n",
              "max        24.660000  279.490000    1.000000  "
            ],
            "text/html": [
              "\n",
              "  <div id=\"df-20bed6c8-841b-4533-9137-d2a5b37af678\">\n",
              "    <div class=\"colab-df-container\">\n",
              "      <div>\n",
              "<style scoped>\n",
              "    .dataframe tbody tr th:only-of-type {\n",
              "        vertical-align: middle;\n",
              "    }\n",
              "\n",
              "    .dataframe tbody tr th {\n",
              "        vertical-align: top;\n",
              "    }\n",
              "\n",
              "    .dataframe thead th {\n",
              "        text-align: right;\n",
              "    }\n",
              "</style>\n",
              "<table border=\"1\" class=\"dataframe\">\n",
              "  <thead>\n",
              "    <tr style=\"text-align: right;\">\n",
              "      <th></th>\n",
              "      <th>Relative Humidity</th>\n",
              "      <th>Soil temp.</th>\n",
              "      <th>Soil Wetness</th>\n",
              "      <th>Max temp.</th>\n",
              "      <th>Min temp.</th>\n",
              "      <th>Average temp.</th>\n",
              "      <th>Rainfall</th>\n",
              "      <th>class</th>\n",
              "    </tr>\n",
              "  </thead>\n",
              "  <tbody>\n",
              "    <tr>\n",
              "      <th>count</th>\n",
              "      <td>492.000000</td>\n",
              "      <td>492.000000</td>\n",
              "      <td>492.000000</td>\n",
              "      <td>492.000000</td>\n",
              "      <td>492.000000</td>\n",
              "      <td>492.000000</td>\n",
              "      <td>492.000000</td>\n",
              "      <td>492.000000</td>\n",
              "    </tr>\n",
              "    <tr>\n",
              "      <th>mean</th>\n",
              "      <td>76.739736</td>\n",
              "      <td>17.256341</td>\n",
              "      <td>0.454268</td>\n",
              "      <td>30.632724</td>\n",
              "      <td>12.985122</td>\n",
              "      <td>20.837053</td>\n",
              "      <td>47.341057</td>\n",
              "      <td>0.276423</td>\n",
              "    </tr>\n",
              "    <tr>\n",
              "      <th>std</th>\n",
              "      <td>7.273804</td>\n",
              "      <td>1.276898</td>\n",
              "      <td>0.107082</td>\n",
              "      <td>1.781498</td>\n",
              "      <td>1.539400</td>\n",
              "      <td>1.249073</td>\n",
              "      <td>55.188723</td>\n",
              "      <td>0.447684</td>\n",
              "    </tr>\n",
              "    <tr>\n",
              "      <th>min</th>\n",
              "      <td>50.880000</td>\n",
              "      <td>14.300000</td>\n",
              "      <td>0.250000</td>\n",
              "      <td>25.690000</td>\n",
              "      <td>8.410000</td>\n",
              "      <td>18.140000</td>\n",
              "      <td>0.000000</td>\n",
              "      <td>0.000000</td>\n",
              "    </tr>\n",
              "    <tr>\n",
              "      <th>25%</th>\n",
              "      <td>72.690000</td>\n",
              "      <td>16.377500</td>\n",
              "      <td>0.370000</td>\n",
              "      <td>29.350000</td>\n",
              "      <td>11.830000</td>\n",
              "      <td>19.880000</td>\n",
              "      <td>5.270000</td>\n",
              "      <td>0.000000</td>\n",
              "    </tr>\n",
              "    <tr>\n",
              "      <th>50%</th>\n",
              "      <td>78.155000</td>\n",
              "      <td>17.120000</td>\n",
              "      <td>0.460000</td>\n",
              "      <td>30.800000</td>\n",
              "      <td>12.980000</td>\n",
              "      <td>20.815000</td>\n",
              "      <td>26.370000</td>\n",
              "      <td>0.000000</td>\n",
              "    </tr>\n",
              "    <tr>\n",
              "      <th>75%</th>\n",
              "      <td>82.137500</td>\n",
              "      <td>18.050000</td>\n",
              "      <td>0.520000</td>\n",
              "      <td>31.810000</td>\n",
              "      <td>14.142500</td>\n",
              "      <td>21.692500</td>\n",
              "      <td>73.830000</td>\n",
              "      <td>1.000000</td>\n",
              "    </tr>\n",
              "    <tr>\n",
              "      <th>max</th>\n",
              "      <td>89.000000</td>\n",
              "      <td>20.520000</td>\n",
              "      <td>0.860000</td>\n",
              "      <td>35.240000</td>\n",
              "      <td>16.630000</td>\n",
              "      <td>24.660000</td>\n",
              "      <td>279.490000</td>\n",
              "      <td>1.000000</td>\n",
              "    </tr>\n",
              "  </tbody>\n",
              "</table>\n",
              "</div>\n",
              "      <button class=\"colab-df-convert\" onclick=\"convertToInteractive('df-20bed6c8-841b-4533-9137-d2a5b37af678')\"\n",
              "              title=\"Convert this dataframe to an interactive table.\"\n",
              "              style=\"display:none;\">\n",
              "        \n",
              "  <svg xmlns=\"http://www.w3.org/2000/svg\" height=\"24px\"viewBox=\"0 0 24 24\"\n",
              "       width=\"24px\">\n",
              "    <path d=\"M0 0h24v24H0V0z\" fill=\"none\"/>\n",
              "    <path d=\"M18.56 5.44l.94 2.06.94-2.06 2.06-.94-2.06-.94-.94-2.06-.94 2.06-2.06.94zm-11 1L8.5 8.5l.94-2.06 2.06-.94-2.06-.94L8.5 2.5l-.94 2.06-2.06.94zm10 10l.94 2.06.94-2.06 2.06-.94-2.06-.94-.94-2.06-.94 2.06-2.06.94z\"/><path d=\"M17.41 7.96l-1.37-1.37c-.4-.4-.92-.59-1.43-.59-.52 0-1.04.2-1.43.59L10.3 9.45l-7.72 7.72c-.78.78-.78 2.05 0 2.83L4 21.41c.39.39.9.59 1.41.59.51 0 1.02-.2 1.41-.59l7.78-7.78 2.81-2.81c.8-.78.8-2.07 0-2.86zM5.41 20L4 18.59l7.72-7.72 1.47 1.35L5.41 20z\"/>\n",
              "  </svg>\n",
              "      </button>\n",
              "      \n",
              "  <style>\n",
              "    .colab-df-container {\n",
              "      display:flex;\n",
              "      flex-wrap:wrap;\n",
              "      gap: 12px;\n",
              "    }\n",
              "\n",
              "    .colab-df-convert {\n",
              "      background-color: #E8F0FE;\n",
              "      border: none;\n",
              "      border-radius: 50%;\n",
              "      cursor: pointer;\n",
              "      display: none;\n",
              "      fill: #1967D2;\n",
              "      height: 32px;\n",
              "      padding: 0 0 0 0;\n",
              "      width: 32px;\n",
              "    }\n",
              "\n",
              "    .colab-df-convert:hover {\n",
              "      background-color: #E2EBFA;\n",
              "      box-shadow: 0px 1px 2px rgba(60, 64, 67, 0.3), 0px 1px 3px 1px rgba(60, 64, 67, 0.15);\n",
              "      fill: #174EA6;\n",
              "    }\n",
              "\n",
              "    [theme=dark] .colab-df-convert {\n",
              "      background-color: #3B4455;\n",
              "      fill: #D2E3FC;\n",
              "    }\n",
              "\n",
              "    [theme=dark] .colab-df-convert:hover {\n",
              "      background-color: #434B5C;\n",
              "      box-shadow: 0px 1px 3px 1px rgba(0, 0, 0, 0.15);\n",
              "      filter: drop-shadow(0px 1px 2px rgba(0, 0, 0, 0.3));\n",
              "      fill: #FFFFFF;\n",
              "    }\n",
              "  </style>\n",
              "\n",
              "      <script>\n",
              "        const buttonEl =\n",
              "          document.querySelector('#df-20bed6c8-841b-4533-9137-d2a5b37af678 button.colab-df-convert');\n",
              "        buttonEl.style.display =\n",
              "          google.colab.kernel.accessAllowed ? 'block' : 'none';\n",
              "\n",
              "        async function convertToInteractive(key) {\n",
              "          const element = document.querySelector('#df-20bed6c8-841b-4533-9137-d2a5b37af678');\n",
              "          const dataTable =\n",
              "            await google.colab.kernel.invokeFunction('convertToInteractive',\n",
              "                                                     [key], {});\n",
              "          if (!dataTable) return;\n",
              "\n",
              "          const docLinkHtml = 'Like what you see? Visit the ' +\n",
              "            '<a target=\"_blank\" href=https://colab.research.google.com/notebooks/data_table.ipynb>data table notebook</a>'\n",
              "            + ' to learn more about interactive tables.';\n",
              "          element.innerHTML = '';\n",
              "          dataTable['output_type'] = 'display_data';\n",
              "          await google.colab.output.renderOutput(dataTable, element);\n",
              "          const docLink = document.createElement('div');\n",
              "          docLink.innerHTML = docLinkHtml;\n",
              "          element.appendChild(docLink);\n",
              "        }\n",
              "      </script>\n",
              "    </div>\n",
              "  </div>\n",
              "  "
            ]
          },
          "metadata": {},
          "execution_count": 63
        }
      ]
    },
    {
      "cell_type": "code",
      "source": [
        "X = df.iloc[:, :-1].values  #features\n",
        "print(X)"
      ],
      "metadata": {
        "colab": {
          "base_uri": "https://localhost:8080/"
        },
        "id": "bn0geRMo78H1",
        "outputId": "429dea2d-702b-4abc-ebad-1b91eb1fa7f8"
      },
      "execution_count": null,
      "outputs": [
        {
          "output_type": "stream",
          "name": "stdout",
          "text": [
            "[[ 65.81  17.66   0.41 ...  12.99  21.55   0.  ]\n",
            " [ 76.25  19.38   0.3  ...  13.02  22.74   5.27]\n",
            " [ 75.75  18.67   0.43 ...  15.44  22.24 131.84]\n",
            " ...\n",
            " [ 73.69  18.49   0.33 ...  13.65  22.36  28.51]\n",
            " [ 76.81  18.38   0.4  ...  14.51  22.46  54.02]\n",
            " [ 84.69  16.66   0.53 ...  14.76  20.81 137.37]]\n"
          ]
        }
      ]
    },
    {
      "cell_type": "code",
      "source": [
        "y = df.iloc[:, -1].values  #target\n",
        "print(y)"
      ],
      "metadata": {
        "colab": {
          "base_uri": "https://localhost:8080/"
        },
        "id": "KsHeOdkL8Drh",
        "outputId": "ae3bbe4d-1d2b-481d-e5e5-6b1abdda37bb"
      },
      "execution_count": null,
      "outputs": [
        {
          "output_type": "stream",
          "name": "stdout",
          "text": [
            "[0 1 1 0 0 0 0 0 1 1 0 0 0 1 1 0 0 0 0 0 0 0 0 0 0 1 0 1 0 0 0 1 0 0 0 0 0\n",
            " 0 1 0 1 0 0 0 1 0 0 0 1 0 0 0 0 0 0 0 1 0 0 0 0 1 0 0 1 0 1 0 0 1 0 0 0 0\n",
            " 1 0 1 0 0 0 0 1 1 0 0 0 0 0 0 0 0 0 1 1 0 0 1 0 0 0 0 0 0 0 1 0 0 0 1 1 0\n",
            " 0 0 0 0 0 1 0 0 0 1 1 1 1 0 0 0 1 0 1 0 0 0 1 0 1 0 0 0 0 1 1 0 0 0 0 0 0\n",
            " 1 0 0 0 0 0 0 0 0 1 0 0 0 0 1 0 0 0 1 0 0 0 0 1 1 0 0 0 0 0 0 0 0 1 0 0 0\n",
            " 0 1 0 0 0 1 0 0 0 0 0 0 0 0 0 0 0 1 1 1 1 0 0 0 0 0 0 1 0 0 0 0 0 0 1 0 0\n",
            " 0 0 0 0 1 1 0 0 0 0 0 0 0 0 0 0 0 0 0 0 0 1 1 0 0 0 0 1 1 0 0 0 0 1 1 0 0\n",
            " 0 0 0 1 1 0 0 0 0 1 1 0 0 0 0 1 0 0 0 0 1 0 0 0 0 0 1 0 0 0 0 0 0 1 1 0 0\n",
            " 0 0 0 0 0 0 1 1 1 0 0 0 0 0 1 1 0 0 0 0 1 1 1 0 0 0 0 0 0 0 0 1 0 0 0 0 0\n",
            " 0 0 0 0 0 0 0 0 0 0 0 0 0 0 0 0 0 1 1 1 1 0 0 0 0 1 0 0 0 0 0 1 1 0 0 0 1\n",
            " 1 0 0 0 0 1 1 1 1 1 0 0 1 1 0 0 0 1 1 1 1 0 0 0 1 1 0 0 0 0 0 0 0 0 0 0 1\n",
            " 0 0 0 0 1 1 0 1 0 0 0 1 0 1 0 0 1 1 1 1 0 0 0 1 1 0 0 0 0 1 0 1 0 0 0 1 0\n",
            " 0 0 1 1 1 1 1 1 0 0 1 0 0 0 0 0 0 1 0 0 0 0 1 1 0 0 0 1 1 1 1 0 0 0 1 1 0\n",
            " 0 0 1 1 0 0 0 0 0 0 1]\n"
          ]
        }
      ]
    },
    {
      "cell_type": "markdown",
      "source": [
        "**Splitting to training and testing**\n"
      ],
      "metadata": {
        "id": "txUBMvrgmzgn"
      }
    },
    {
      "cell_type": "code",
      "source": [
        "from sklearn.model_selection import train_test_split\n",
        "X_train, X_test, y_train, y_test = train_test_split(X, y, test_size = 0.3)\n",
        "\n",
        "print(X_train.shape)\n",
        "print(y_test.shape)"
      ],
      "metadata": {
        "id": "nCPswSfynDei",
        "colab": {
          "base_uri": "https://localhost:8080/"
        },
        "outputId": "e5dfcfe9-3cec-4fd6-ae7d-05f9003cc202"
      },
      "execution_count": null,
      "outputs": [
        {
          "output_type": "stream",
          "name": "stdout",
          "text": [
            "(344, 7)\n",
            "(148,)\n"
          ]
        }
      ]
    },
    {
      "cell_type": "markdown",
      "source": [
        "Normalized input X train"
      ],
      "metadata": {
        "id": "KUJw723d9Xi1"
      }
    },
    {
      "cell_type": "markdown",
      "source": [
        "**Train the model**\n",
        "\n",
        "Import the MLP classifier model from sklearn"
      ],
      "metadata": {
        "id": "2g02sLwv9jRv"
      }
    },
    {
      "cell_type": "code",
      "source": [
        "from sklearn.neural_network import MLPClassifier"
      ],
      "metadata": {
        "id": "opfvpYQ_9pCQ"
      },
      "execution_count": null,
      "outputs": []
    },
    {
      "cell_type": "code",
      "source": [
        "mlp = MLPClassifier(hidden_layer_sizes=(3, 2), max_iter=500, activation='relu')\n",
        "mlp"
      ],
      "metadata": {
        "colab": {
          "base_uri": "https://localhost:8080/"
        },
        "id": "2M0hpJ7B99FG",
        "outputId": "524ec29e-302d-4bf1-80da-1159a6f42a02"
      },
      "execution_count": null,
      "outputs": [
        {
          "output_type": "execute_result",
          "data": {
            "text/plain": [
              "MLPClassifier(hidden_layer_sizes=(3, 2), max_iter=500)"
            ]
          },
          "metadata": {},
          "execution_count": 68
        }
      ]
    },
    {
      "cell_type": "markdown",
      "source": [
        "**About parameters**"
      ],
      "metadata": {
        "id": "0hTJSmBS-p-T"
      }
    },
    {
      "cell_type": "markdown",
      "source": [
        "**Training**"
      ],
      "metadata": {
        "id": "SYFW5FMPT4OS"
      }
    },
    {
      "cell_type": "code",
      "source": [
        "mlp.fit(X_train, y_train)"
      ],
      "metadata": {
        "colab": {
          "base_uri": "https://localhost:8080/"
        },
        "id": "tgH1zwaGT8WL",
        "outputId": "3d17ec33-4af4-467c-8899-e442b1e413a2"
      },
      "execution_count": null,
      "outputs": [
        {
          "output_type": "execute_result",
          "data": {
            "text/plain": [
              "MLPClassifier(hidden_layer_sizes=(3, 2), max_iter=500)"
            ]
          },
          "metadata": {},
          "execution_count": 69
        }
      ]
    },
    {
      "cell_type": "markdown",
      "source": [
        "**Testing**"
      ],
      "metadata": {
        "id": "03Q4XMNEULgJ"
      }
    },
    {
      "cell_type": "code",
      "source": [
        "pred = mlp.predict(X_test)\n",
        "pred"
      ],
      "metadata": {
        "id": "OIKP8sjR-4dp",
        "colab": {
          "base_uri": "https://localhost:8080/"
        },
        "outputId": "e83aac82-9c06-4702-ac44-3d6944f99217"
      },
      "execution_count": null,
      "outputs": [
        {
          "output_type": "execute_result",
          "data": {
            "text/plain": [
              "array([0, 0, 1, 0, 0, 0, 0, 0, 1, 0, 0, 0, 0, 0, 0, 0, 0, 0, 0, 0, 0, 0,\n",
              "       0, 0, 0, 1, 0, 0, 1, 0, 1, 0, 0, 0, 0, 0, 0, 0, 0, 0, 0, 0, 0, 0,\n",
              "       0, 0, 0, 0, 0, 0, 0, 0, 1, 0, 1, 0, 0, 0, 0, 0, 0, 0, 0, 0, 1, 0,\n",
              "       0, 0, 0, 0, 1, 0, 0, 0, 0, 1, 0, 1, 0, 1, 0, 0, 0, 0, 0, 0, 0, 0,\n",
              "       0, 0, 0, 0, 0, 0, 0, 0, 0, 0, 0, 0, 0, 0, 0, 0, 0, 0, 0, 0, 0, 0,\n",
              "       0, 0, 0, 1, 0, 0, 0, 0, 1, 0, 0, 0, 1, 0, 0, 0, 0, 0, 0, 0, 0, 1,\n",
              "       0, 0, 0, 0, 0, 0, 0, 0, 0, 1, 0, 0, 0, 1, 0, 0])"
            ]
          },
          "metadata": {},
          "execution_count": 70
        }
      ]
    },
    {
      "cell_type": "markdown",
      "source": [
        "**Evaluation Metrics- Confusion Matrix and F2 Score**"
      ],
      "metadata": {
        "id": "mFFzAKJIUdvO"
      }
    },
    {
      "cell_type": "code",
      "source": [
        "from sklearn.metrics import classification_report,confusion_matrix\n",
        "\n",
        "confusion_matrix(y_test, pred)"
      ],
      "metadata": {
        "colab": {
          "base_uri": "https://localhost:8080/"
        },
        "id": "T-A7HxW-Utii",
        "outputId": "7844a0a4-7d6c-49d6-b09f-5bc2bf253965"
      },
      "execution_count": null,
      "outputs": [
        {
          "output_type": "execute_result",
          "data": {
            "text/plain": [
              "array([[104,   8],\n",
              "       [ 26,  10]])"
            ]
          },
          "metadata": {},
          "execution_count": 71
        }
      ]
    },
    {
      "cell_type": "code",
      "source": [
        "print(classification_report(y_test, pred))"
      ],
      "metadata": {
        "colab": {
          "base_uri": "https://localhost:8080/"
        },
        "id": "iPQFvPZiVN3U",
        "outputId": "fd370c08-1977-4f5f-ebc0-8259ce03e405"
      },
      "execution_count": null,
      "outputs": [
        {
          "output_type": "stream",
          "name": "stdout",
          "text": [
            "              precision    recall  f1-score   support\n",
            "\n",
            "           0       0.80      0.93      0.86       112\n",
            "           1       0.56      0.28      0.37        36\n",
            "\n",
            "    accuracy                           0.77       148\n",
            "   macro avg       0.68      0.60      0.61       148\n",
            "weighted avg       0.74      0.77      0.74       148\n",
            "\n"
          ]
        }
      ]
    }
  ]
}